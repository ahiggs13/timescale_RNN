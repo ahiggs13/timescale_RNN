{
 "cells": [
  {
   "cell_type": "markdown",
   "metadata": {},
   "source": [
    "# Testing src functions"
   ]
  },
  {
   "cell_type": "code",
   "execution_count": 1,
   "metadata": {},
   "outputs": [],
   "source": [
    "from src import models, datasets, trainer, analysis\n",
    "import torch\n",
    "from torch.utils.data import DataLoader\n",
    "import yaml\n",
    "import numpy as np\n",
    "import matplotlib.pyplot as plt"
   ]
  },
  {
   "cell_type": "code",
   "execution_count": 20,
   "metadata": {},
   "outputs": [],
   "source": [
    "testrnn = models.RNN(1, 5, 1, 0.1, 50, 'relu', bias=False)"
   ]
  },
  {
   "cell_type": "code",
   "execution_count": 13,
   "metadata": {},
   "outputs": [],
   "source": [
    "cur_hidden = torch.zeros(5)"
   ]
  },
  {
   "cell_type": "code",
   "execution_count": 15,
   "metadata": {},
   "outputs": [],
   "source": [
    "hidden = testrnn.forward(torch.ones(1), cur_hidden)"
   ]
  },
  {
   "cell_type": "code",
   "execution_count": 18,
   "metadata": {},
   "outputs": [
    {
     "data": {
      "text/plain": [
       "tensor([-0.0438], grad_fn=<ViewBackward0>)"
      ]
     },
     "execution_count": 18,
     "metadata": {},
     "output_type": "execute_result"
    }
   ],
   "source": [
    "testrnn.ho(hidden)"
   ]
  },
  {
   "cell_type": "code",
   "execution_count": 23,
   "metadata": {},
   "outputs": [],
   "source": [
    "t = np.arange(0, 20.1, 0.1)\n",
    "stim_bins = np.where((t>=1)&(t<=(3)))"
   ]
  },
  {
   "cell_type": "code",
   "execution_count": 26,
   "metadata": {},
   "outputs": [
    {
     "data": {
      "text/plain": [
       "array([1. , 1.1, 1.2, 1.3, 1.4, 1.5, 1.6, 1.7, 1.8, 1.9, 2. , 2.1, 2.2,\n",
       "       2.3, 2.4, 2.5, 2.6, 2.7, 2.8, 2.9, 3. ])"
      ]
     },
     "execution_count": 26,
     "metadata": {},
     "output_type": "execute_result"
    }
   ],
   "source": [
    "t[stim_bins]"
   ]
  },
  {
   "cell_type": "code",
   "execution_count": 10,
   "metadata": {},
   "outputs": [],
   "source": [
    "testdata = datasets.perceptualClassification(0, 5, 2, 4, size=100)"
   ]
  },
  {
   "cell_type": "code",
   "execution_count": 11,
   "metadata": {},
   "outputs": [
    {
     "name": "stdout",
     "output_type": "stream",
     "text": [
      "[ 3.27392337  5.8134968   7.89544385  9.92849912 13.5550396 ]\n",
      "[0.81745    0.89179862 0.36510223 0.24265431 0.97402897]\n",
      "[ 3.71480855  5.7819797   9.2412906  11.59260184 15.31895968]\n",
      "[0.64971331 0.61132787 0.76907489 0.11988476 0.21658449]\n",
      "[ 2.76735511  6.76177498 10.72344566 14.09452963 17.39544818]\n",
      "[0.6540386  0.88859534 0.15556857 0.81014173 0.27537869]\n",
      "[ 3.77897567  7.6470627  10.36265309 13.50571276 16.14945154]\n",
      "[0.95610974 0.7566476  0.69086304 0.23772001 0.13516449]\n",
      "[ 3.6652883   7.23948491  9.7182238  13.47119226 15.58832833]\n",
      "[0.91852971 0.69225688 0.78013575 0.13444682 0.06011179]\n",
      "[ 2.39702609  4.57853218  7.73919695 10.33658922 13.68057897]\n",
      "[0.74604407 0.85164326 0.07980618 0.64219811 0.37684524]\n",
      "[ 3.90918099  6.90897261  9.75942986 12.99985677 16.99004978]\n",
      "[0.79896908 0.37957747 0.18401806 0.81172486 0.90309154]\n",
      "[ 3.46896714  6.8912529  10.75537227 12.98523754 16.44326777]\n",
      "[0.38717048 0.60588252 0.99247802 0.37096957 0.94545604]\n",
      "[ 3.77987111  7.42461877 10.38459461 12.84934045 16.45310161]\n",
      "[0.97240693 0.36941206 0.81557376 0.77710113 0.10645211]\n",
      "[ 2.05673073  5.49517028  7.52715373 11.04305574 14.06857319]\n",
      "[0.93652691 0.37164169 0.73772399 0.026433   0.626676  ]\n"
     ]
    }
   ],
   "source": [
    "example = next(iter(DataLoader(testdata, batch_size=10, shuffle=True, num_workers=0)))"
   ]
  },
  {
   "cell_type": "code",
   "execution_count": 12,
   "metadata": {},
   "outputs": [
    {
     "data": {
      "text/plain": [
       "tensor([0.0000, 0.0000, 0.0000,  ..., 0.9740, 0.9740, 0.9740])"
      ]
     },
     "execution_count": 12,
     "metadata": {},
     "output_type": "execute_result"
    }
   ],
   "source": [
    "example[0][0][0]"
   ]
  },
  {
   "cell_type": "code",
   "execution_count": 15,
   "metadata": {},
   "outputs": [
    {
     "data": {
      "text/plain": [
       "<matplotlib.legend.Legend at 0x16a86b4f0>"
      ]
     },
     "execution_count": 15,
     "metadata": {},
     "output_type": "execute_result"
    },
    {
     "data": {
      "image/png": "[encoded data removed]",
      "text/plain": [
       "<Figure size 640x480 with 1 Axes>"
      ]
     },
     "metadata": {},
     "output_type": "display_data"
    }
   ],
   "source": [
    "ind =0\n",
    "\n",
    "plt.plot(example[0][ind][0].numpy(), color='blue', label='stimulusL', linewidth=2)\n",
    "plt.plot(example[0][ind][1].numpy(), color='green', label='stimulusR', linewidth=2)\n",
    "\n",
    "plt.plot(example[1][ind].numpy(), color='red', label='target', linewidth=2, alpha=0.5, linestyle='--')\n",
    "\n",
    "plt.legend()"
   ]
  },
  {
   "cell_type": "code",
   "execution_count": 29,
   "metadata": {},
   "outputs": [
    {
     "data": {
      "text/plain": [
       "Parameter containing:\n",
       "tensor([[-2.7093e-01, -3.3656e-04,  1.5870e-01, -8.2846e-02, -2.0841e-01],\n",
       "        [-4.4533e-01,  3.6139e-01, -4.1310e-01, -3.9851e-01,  1.9130e-01],\n",
       "        [ 7.7235e-02,  4.1670e-01, -2.1953e-01,  2.9130e-01,  3.5128e-01],\n",
       "        [ 1.8750e-01, -1.9956e-01, -2.4311e-01,  1.9028e-01, -1.5286e-01],\n",
       "        [ 2.8113e-01,  3.0368e-01,  3.9393e-01,  3.4493e-04, -2.7769e-02]],\n",
       "       requires_grad=True)"
      ]
     },
     "execution_count": 29,
     "metadata": {},
     "output_type": "execute_result"
    }
   ],
   "source": [
    "testrnn.hh.weight"
   ]
  },
  {
   "cell_type": "code",
   "execution_count": 2,
   "metadata": {},
   "outputs": [
    {
     "name": "stderr",
     "output_type": "stream",
     "text": [
      "/var/folders/48/lxr9wxxd4yq06qqj9jrz69780000gt/T/ipykernel_61774/911317418.py:1: FutureWarning: You are using `torch.load` with `weights_only=False` (the current default value), which uses the default pickle module implicitly. It is possible to construct malicious pickle data which will execute arbitrary code during unpickling (See https://github.com/pytorch/pytorch/blob/main/SECURITY.md#untrusted-models for more details). In a future release, the default value for `weights_only` will be flipped to `True`. This limits the functions that could be executed during unpickling. Arbitrary objects will no longer be allowed to be loaded via this mode unless they are explicitly allowlisted by the user via `torch.serialization.add_safe_globals`. We recommend you start setting `weights_only=True` for any use case where you don't have full control of the loaded file. Please open an issue on GitHub for any issues related to this experimental feature.\n",
      "  rnn = torch.load('test_hold_1/best_model.pth')\n"
     ]
    }
   ],
   "source": [
    "rnn = torch.load('test_hold_1/best_model.pth')"
   ]
  },
  {
   "cell_type": "code",
   "execution_count": null,
   "metadata": {},
   "outputs": [],
   "source": [
    "fitmodel = models.RNN(1,100,1,0.01,1,'relu', sigma_in=0.01)"
   ]
  },
  {
   "cell_type": "code",
   "execution_count": 10,
   "metadata": {},
   "outputs": [
    {
     "data": {
      "text/plain": [
       "<All keys matched successfully>"
      ]
     },
     "execution_count": 10,
     "metadata": {},
     "output_type": "execute_result"
    }
   ],
   "source": [
    "fitmodel.load_state_dict(rnn)"
   ]
  },
  {
   "cell_type": "code",
   "execution_count": 8,
   "metadata": {},
   "outputs": [
    {
     "data": {
      "text/plain": [
       "RNN(\n",
       "  (ih): Linear(in_features=1, out_features=100, bias=False)\n",
       "  (hh): Linear(in_features=100, out_features=100, bias=True)\n",
       "  (ho): Linear(in_features=100, out_features=1, bias=True)\n",
       ")"
      ]
     },
     "execution_count": 8,
     "metadata": {},
     "output_type": "execute_result"
    }
   ],
   "source": [
    "fitmodel.eval()"
   ]
  },
  {
   "cell_type": "code",
   "execution_count": 5,
   "metadata": {},
   "outputs": [],
   "source": [
    "\n",
    "with open('test_hold_1/config.yaml', 'r') as file:\n",
    "        conf = yaml.safe_load(file)"
   ]
  },
  {
   "cell_type": "code",
   "execution_count": 6,
   "metadata": {},
   "outputs": [],
   "source": [
    "alldata = datasets.decisionMakingHold(1, conf['expt']['stim_start_min'], conf['expt']['stim_start_max'], conf['expt']['stim_length'], conf['expt']['sigma_length'], conf['expt']['duration'], conf['model']['dt'], 100)"
   ]
  },
  {
   "cell_type": "code",
   "execution_count": 7,
   "metadata": {},
   "outputs": [],
   "source": [
    "\n",
    "plotting_data = next(iter(DataLoader(alldata, batch_size=10, shuffle=True, num_workers=0)))"
   ]
  },
  {
   "cell_type": "code",
   "execution_count": 12,
   "metadata": {},
   "outputs": [],
   "source": [
    "analysis.plot_example(fitmodel, plotting_data, 'cpu', torch.Generator().manual_seed(1), 'test_hold_1/', noise=False)"
   ]
  }
 ],
 "metadata": {
  "kernelspec": {
   "display_name": "rnn",
   "language": "python",
   "name": "python3"
  },
  "language_info": {
   "codemirror_mode": {
    "name": "ipython",
    "version": 3
   },
   "file_extension": ".py",
   "mimetype": "text/x-python",
   "name": "python",
   "nbconvert_exporter": "python",
   "pygments_lexer": "ipython3",
   "version": "3.10.16"
  }
 },
 "nbformat": 4,
 "nbformat_minor": 2
}
