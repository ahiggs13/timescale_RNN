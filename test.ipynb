{
 "cells": [
  {
   "cell_type": "markdown",
   "metadata": {},
   "source": [
    "# Testing src functions"
   ]
  },
  {
   "cell_type": "code",
   "execution_count": 1,
   "metadata": {},
   "outputs": [],
   "source": [
    "from src import models, datasets, trainer\n",
    "import torch"
   ]
  },
  {
   "cell_type": "code",
   "execution_count": 20,
   "metadata": {},
   "outputs": [],
   "source": [
    "testrnn = models.RNN(1, 5, 1, 0.1, 50, 'relu', bias=False)"
   ]
  },
  {
   "cell_type": "code",
   "execution_count": 13,
   "metadata": {},
   "outputs": [],
   "source": [
    "cur_hidden = torch.zeros(5)"
   ]
  },
  {
   "cell_type": "code",
   "execution_count": 15,
   "metadata": {},
   "outputs": [],
   "source": [
    "hidden = testrnn.forward(torch.ones(1), cur_hidden)"
   ]
  },
  {
   "cell_type": "code",
   "execution_count": 18,
   "metadata": {},
   "outputs": [
    {
     "data": {
      "text/plain": [
       "tensor([-0.0438], grad_fn=<ViewBackward0>)"
      ]
     },
     "execution_count": 18,
     "metadata": {},
     "output_type": "execute_result"
    }
   ],
   "source": [
    "testrnn.ho(hidden)"
   ]
  },
  {
   "cell_type": "code",
   "execution_count": 20,
   "metadata": {},
   "outputs": [],
   "source": [
    "import numpy as np"
   ]
  },
  {
   "cell_type": "code",
   "execution_count": 23,
   "metadata": {},
   "outputs": [],
   "source": [
    "t = np.arange(0, 20.1, 0.1)\n",
    "stim_bins = np.where((t>=1)&(t<=(3)))"
   ]
  },
  {
   "cell_type": "code",
   "execution_count": 26,
   "metadata": {},
   "outputs": [
    {
     "data": {
      "text/plain": [
       "array([1. , 1.1, 1.2, 1.3, 1.4, 1.5, 1.6, 1.7, 1.8, 1.9, 2. , 2.1, 2.2,\n",
       "       2.3, 2.4, 2.5, 2.6, 2.7, 2.8, 2.9, 3. ])"
      ]
     },
     "execution_count": 26,
     "metadata": {},
     "output_type": "execute_result"
    }
   ],
   "source": [
    "t[stim_bins]"
   ]
  },
  {
   "cell_type": "code",
   "execution_count": 19,
   "metadata": {},
   "outputs": [],
   "source": [
    "testdata = datasets.decisionMakingInstant(0, 1, 3, 3, 3)"
   ]
  },
  {
   "cell_type": "code",
   "execution_count": 29,
   "metadata": {},
   "outputs": [
    {
     "data": {
      "text/plain": [
       "Parameter containing:\n",
       "tensor([[-2.7093e-01, -3.3656e-04,  1.5870e-01, -8.2846e-02, -2.0841e-01],\n",
       "        [-4.4533e-01,  3.6139e-01, -4.1310e-01, -3.9851e-01,  1.9130e-01],\n",
       "        [ 7.7235e-02,  4.1670e-01, -2.1953e-01,  2.9130e-01,  3.5128e-01],\n",
       "        [ 1.8750e-01, -1.9956e-01, -2.4311e-01,  1.9028e-01, -1.5286e-01],\n",
       "        [ 2.8113e-01,  3.0368e-01,  3.9393e-01,  3.4493e-04, -2.7769e-02]],\n",
       "       requires_grad=True)"
      ]
     },
     "execution_count": 29,
     "metadata": {},
     "output_type": "execute_result"
    }
   ],
   "source": [
    "testrnn.hh.weight"
   ]
  },
  {
   "cell_type": "code",
   "execution_count": 31,
   "metadata": {},
   "outputs": [
    {
     "name": "stderr",
     "output_type": "stream",
     "text": [
      "/var/folders/48/lxr9wxxd4yq06qqj9jrz69780000gt/T/ipykernel_81153/1829952402.py:1: FutureWarning: You are using `torch.load` with `weights_only=False` (the current default value), which uses the default pickle module implicitly. It is possible to construct malicious pickle data which will execute arbitrary code during unpickling (See https://github.com/pytorch/pytorch/blob/main/SECURITY.md#untrusted-models for more details). In a future release, the default value for `weights_only` will be flipped to `True`. This limits the functions that could be executed during unpickling. Arbitrary objects will no longer be allowed to be loaded via this mode unless they are explicitly allowlisted by the user via `torch.serialization.add_safe_globals`. We recommend you start setting `weights_only=True` for any use case where you don't have full control of the loaded file. Please open an issue on GitHub for any issues related to this experimental feature.\n",
      "  rnn = torch.load('0_best_RNN.pth')\n"
     ]
    }
   ],
   "source": [
    "rnn = torch.load('0_best_RNN.pth')"
   ]
  },
  {
   "cell_type": "code",
   "execution_count": null,
   "metadata": {},
   "outputs": [
    {
     "data": {
      "text/plain": [
       "OrderedDict([('ih.weight',\n",
       "              tensor([[ 0.7530],\n",
       "                      [ 0.8486],\n",
       "                      [-0.8472],\n",
       "                      [-0.6936],\n",
       "                      [ 0.8855],\n",
       "                      [-0.0167],\n",
       "                      [-0.9347],\n",
       "                      [-1.4740],\n",
       "                      [-0.5561],\n",
       "                      [ 1.4302],\n",
       "                      [-0.6652],\n",
       "                      [-0.6771],\n",
       "                      [-0.9832],\n",
       "                      [-0.7691],\n",
       "                      [ 0.9426],\n",
       "                      [-0.9688],\n",
       "                      [ 0.0335],\n",
       "                      [ 0.7604],\n",
       "                      [ 0.8888],\n",
       "                      [-0.2192],\n",
       "                      [-1.2275],\n",
       "                      [ 0.6366],\n",
       "                      [-0.6573],\n",
       "                      [-0.3079],\n",
       "                      [-0.1635],\n",
       "                      [ 0.1093],\n",
       "                      [-0.5730],\n",
       "                      [ 0.1510],\n",
       "                      [ 0.4325],\n",
       "                      [-0.2683],\n",
       "                      [-0.7079],\n",
       "                      [-1.2190],\n",
       "                      [-0.8376],\n",
       "                      [ 1.0073],\n",
       "                      [ 0.9379],\n",
       "                      [-0.5224],\n",
       "                      [ 0.0498],\n",
       "                      [-0.7383],\n",
       "                      [ 1.1272],\n",
       "                      [ 0.3928],\n",
       "                      [-1.1304],\n",
       "                      [ 0.1735],\n",
       "                      [ 1.0077],\n",
       "                      [ 0.8909],\n",
       "                      [-0.4317],\n",
       "                      [ 1.1832],\n",
       "                      [ 0.1718],\n",
       "                      [-0.2907],\n",
       "                      [-0.8652],\n",
       "                      [-0.9999],\n",
       "                      [ 0.0434],\n",
       "                      [-0.2076],\n",
       "                      [ 0.7062],\n",
       "                      [ 0.6727],\n",
       "                      [ 0.9170],\n",
       "                      [ 0.7796],\n",
       "                      [ 0.0058],\n",
       "                      [-0.7297],\n",
       "                      [ 0.6075],\n",
       "                      [ 0.2647],\n",
       "                      [-0.6708],\n",
       "                      [-0.8099],\n",
       "                      [ 0.8659],\n",
       "                      [-0.4387],\n",
       "                      [ 0.6203],\n",
       "                      [ 0.9827],\n",
       "                      [-0.4261],\n",
       "                      [-0.1362],\n",
       "                      [ 0.7291],\n",
       "                      [ 0.8028],\n",
       "                      [-1.0753],\n",
       "                      [ 0.5165],\n",
       "                      [ 0.8008],\n",
       "                      [ 0.6041],\n",
       "                      [ 0.1545],\n",
       "                      [-0.7119],\n",
       "                      [ 0.3554],\n",
       "                      [ 0.5937],\n",
       "                      [ 0.3069],\n",
       "                      [-0.8327],\n",
       "                      [-0.9615],\n",
       "                      [-0.9531],\n",
       "                      [-0.8835],\n",
       "                      [-0.3127],\n",
       "                      [ 0.8832],\n",
       "                      [-0.4534],\n",
       "                      [-0.2286],\n",
       "                      [ 0.8488],\n",
       "                      [ 0.2791],\n",
       "                      [-1.3255],\n",
       "                      [ 0.9038],\n",
       "                      [ 0.7647],\n",
       "                      [-0.6341],\n",
       "                      [-0.8304],\n",
       "                      [ 0.8080],\n",
       "                      [ 0.7873],\n",
       "                      [-0.8576],\n",
       "                      [ 1.2856],\n",
       "                      [ 0.0831],\n",
       "                      [-0.8889]])),\n",
       "             ('hh.weight',\n",
       "              tensor([[-0.0495, -0.1005,  0.0319,  ..., -0.1422, -0.0002,  0.1469],\n",
       "                      [ 0.0256, -0.1343,  0.0420,  ..., -0.0240, -0.0187, -0.0933],\n",
       "                      [-0.0325, -0.0343, -0.1373,  ..., -0.0367,  0.0025, -0.0560],\n",
       "                      ...,\n",
       "                      [ 0.0247,  0.0422, -0.0300,  ..., -0.0867, -0.0656,  0.0156],\n",
       "                      [-0.1198, -0.1058,  0.0530,  ..., -0.0745, -0.0744, -0.0936],\n",
       "                      [-0.0335, -0.0290, -0.0171,  ..., -0.1129, -0.0185, -0.0087]])),\n",
       "             ('hh.bias',\n",
       "              tensor([ 0.0644,  0.0492, -0.1126, -0.1519,  0.0761, -0.1290,  0.0667,  0.0560,\n",
       "                       0.0065,  0.0178,  0.0745,  0.0608,  0.0523,  0.0230,  0.0283, -0.0082,\n",
       "                      -0.0234,  0.0015, -0.1606, -0.1167,  0.0603, -0.0543,  0.0788, -0.0093,\n",
       "                       0.0514,  0.0128,  0.0340,  0.0279, -0.0812, -0.1063, -0.1039,  0.0479,\n",
       "                       0.0639, -0.0152, -0.0041, -0.0298, -0.0020, -0.0048,  0.1220, -0.0338,\n",
       "                       0.0891, -0.1041, -0.0740,  0.0508, -0.1252,  0.0923, -0.0318, -0.0968,\n",
       "                       0.0534,  0.0278,  0.0276, -0.0345,  0.0336,  0.0745, -0.0169, -0.0070,\n",
       "                      -0.1094, -0.0304, -0.1223, -0.0700, -0.0592,  0.0963,  0.0480,  0.0262,\n",
       "                      -0.0080, -0.0560,  0.0709, -0.0392,  0.0942, -0.0064,  0.0116, -0.0368,\n",
       "                      -0.0930,  0.0233,  0.0153,  0.0387,  0.0132,  0.0779, -0.0238,  0.0010,\n",
       "                       0.0318,  0.0839, -0.0037, -0.0357,  0.0405, -0.1359,  0.0331, -0.0125,\n",
       "                       0.0098,  0.0669, -0.0926,  0.0539,  0.0370,  0.0588,  0.0188,  0.0492,\n",
       "                       0.1183,  0.0676, -0.1153,  0.0100])),\n",
       "             ('ho.weight',\n",
       "              tensor([[ 0.0919,  0.0580,  0.0245,  0.0143,  0.1164,  0.0399, -0.1464, -0.0636,\n",
       "                       -0.0741,  0.1200, -0.1582, -0.0985, -0.0901, -0.0349,  0.1187, -0.0978,\n",
       "                        0.0578,  0.0458, -0.0223,  0.0098, -0.1716,  0.0373, -0.0844,  0.0306,\n",
       "                       -0.0350, -0.0582, -0.0966, -0.0232,  0.0218,  0.0244,  0.0163, -0.1527,\n",
       "                       -0.1057,  0.0885,  0.0642, -0.0460, -0.0309, -0.0626,  0.2029, -0.0008,\n",
       "                       -0.1223, -0.0407,  0.0675,  0.0682,  0.0576,  0.1896, -0.0380, -0.0223,\n",
       "                       -0.0840, -0.0754,  0.0356,  0.0223,  0.0109,  0.0665,  0.1055,  0.1221,\n",
       "                        0.0335, -0.0703, -0.0195,  0.0158,  0.0308, -0.1010,  0.0304, -0.0520,\n",
       "                        0.0838,  0.0177, -0.1085,  0.0027,  0.0861,  0.1013, -0.1394,  0.0611,\n",
       "                        0.0079,  0.0350,  0.0268, -0.0391, -0.0140,  0.0961,  0.0255, -0.0749,\n",
       "                       -0.0528, -0.0873, -0.1074,  0.0449,  0.0974,  0.0406, -0.0810,  0.0907,\n",
       "                       -0.0120, -0.1184,  0.0217,  0.0703, -0.0073, -0.0883,  0.0979,  0.1127,\n",
       "                       -0.1080,  0.1699, -0.0032,  0.0143]])),\n",
       "             ('ho.bias', tensor([0.0084]))])"
      ]
     },
     "execution_count": 32,
     "metadata": {},
     "output_type": "execute_result"
    }
   ],
   "source": [
    "rnn[]"
   ]
  },
  {
   "cell_type": "code",
   "execution_count": null,
   "metadata": {},
   "outputs": [],
   "source": []
  }
 ],
 "metadata": {
  "kernelspec": {
   "display_name": "rnn",
   "language": "python",
   "name": "python3"
  },
  "language_info": {
   "codemirror_mode": {
    "name": "ipython",
    "version": 3
   },
   "file_extension": ".py",
   "mimetype": "text/x-python",
   "name": "python",
   "nbconvert_exporter": "python",
   "pygments_lexer": "ipython3",
   "version": "3.10.16"
  }
 },
 "nbformat": 4,
 "nbformat_minor": 2
}
